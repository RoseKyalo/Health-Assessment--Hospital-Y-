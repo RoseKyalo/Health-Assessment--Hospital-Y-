{
 "cells": [
  {
   "cell_type": "markdown",
   "id": "dc77f272",
   "metadata": {},
   "source": [
    "# Data Analysis Report: Hospital Y Records Analysis for the Year 2022"
   ]
  },
  {
   "cell_type": "markdown",
   "id": "4ead56dc",
   "metadata": {},
   "source": [
    "Hospital Y has sought assistance in analyzing their records for the year 2022 to make informed decisions. The dataset provided by Hospital Y is in Excel format and consists of four worksheets named 'Visit Tbl', 'Invoice Tbl', 'Diagnosis Tbl', and 'Data Dictionary'. Our objective is to answer the questions provided by the hospital using pandas data frames. "
   ]
  },
  {
   "cell_type": "markdown",
   "id": "a060d5ab",
   "metadata": {},
   "source": [
    "### Questions to Address\n",
    "\n",
    "1. How many visits did Kimathi Street and Pipeline medical centers' have from May 2022 and September 2022?\n",
    "\n",
    "2. What was the most common diagnosis in 2022 for Tassia and Embakasi branches combined?\n",
    "\n",
    "3.  Which payor was the most profitable (in absolute numbers) for Hospital Y in 2022? {Assume a gross average margin of 30% per visit}.\n",
    "\n",
    "4. What was the average spend per visit for visits that had a diagnosis of acute gastritis?\n",
    "\n",
    "5. At Hospital Y, we have a blended healthcare model where patients can get treatment physically (by visiting a medical centers)or virtually (through our call center). In 2022, how many unique patients experienced a blended healthcare approach in their healthcare journey?\n",
    "\n",
    "6. What was the Net Promoter Score (NPS) for Q3 2022?\n",
    "\n",
    "7. What was the propotion of the second visits?\n",
    "\n",
    "8. What percent of visits in April 2022 happened within 30 days of the preceding visit by the same patient?\n"
   ]
  },
  {
   "cell_type": "markdown",
   "id": "5402b22a",
   "metadata": {},
   "source": [
    "### Data Analysis Approach\n",
    "To gain a comprehensive view of the data, we will combine the information from the 'Visit Tbl', 'Invoice Tbl', and 'Diagnosis Tbl' worksheets into a single dataframe. We will exclude the 'Data Dictionary' worksheet as it does not contain relevant data for our analysis. The 'VisitCode' column, present in all three worksheets, will serve as the key to merge the data effectively. By merging the datasets, we can answer our questions based on the integrated information."
   ]
  },
  {
   "cell_type": "markdown",
   "id": "caf7ae83",
   "metadata": {},
   "source": [
    "Let's proceed with the analysis and present the answers in an organized and clear manner to help Hospital Y gain insights from the data."
   ]
  },
  {
   "cell_type": "code",
   "execution_count": 1,
   "id": "edd6e550",
   "metadata": {},
   "outputs": [],
   "source": [
    "# import neccessary modules\n",
    "import pandas as pd\n",
    "import numpy as np"
   ]
  },
  {
   "cell_type": "code",
   "execution_count": 2,
   "id": "7e0cdeaa",
   "metadata": {},
   "outputs": [
    {
     "data": {
      "text/plain": [
       "['Visit Tbl', 'Invoice Tbl', 'Diagnosis Tbl', 'Data Dictionary']"
      ]
     },
     "execution_count": 2,
     "metadata": {},
     "output_type": "execute_result"
    }
   ],
   "source": [
    "# load the excel workbook\n",
    "workbook = pd.ExcelFile(\"D:/MyProjects/BI_Analyst_Assessment_Data_2023.xlsx\")\n",
    "\n",
    "# get the worksheet names\n",
    "workbook.sheet_names"
   ]
  },
  {
   "cell_type": "code",
   "execution_count": 3,
   "id": "accba8e3",
   "metadata": {},
   "outputs": [
    {
     "data": {
      "text/html": [
       "<div>\n",
       "<style scoped>\n",
       "    .dataframe tbody tr th:only-of-type {\n",
       "        vertical-align: middle;\n",
       "    }\n",
       "\n",
       "    .dataframe tbody tr th {\n",
       "        vertical-align: top;\n",
       "    }\n",
       "\n",
       "    .dataframe thead th {\n",
       "        text-align: right;\n",
       "    }\n",
       "</style>\n",
       "<table border=\"1\" class=\"dataframe\">\n",
       "  <thead>\n",
       "    <tr style=\"text-align: right;\">\n",
       "      <th></th>\n",
       "      <th>VisitCode</th>\n",
       "      <th>PatientCode</th>\n",
       "      <th>VisitDateTime</th>\n",
       "      <th>MedicalCenter</th>\n",
       "      <th>VisitCategory</th>\n",
       "      <th>Payor</th>\n",
       "      <th>NPS Score</th>\n",
       "      <th>Amount</th>\n",
       "      <th>Diagnosis</th>\n",
       "    </tr>\n",
       "  </thead>\n",
       "  <tbody>\n",
       "    <tr>\n",
       "      <th>0</th>\n",
       "      <td>XA-1188078</td>\n",
       "      <td>c464fa34-e7f2</td>\n",
       "      <td>2022-07-27 05:54:02</td>\n",
       "      <td>Tassia</td>\n",
       "      <td>In-person Visit</td>\n",
       "      <td>Cash</td>\n",
       "      <td>NaN</td>\n",
       "      <td>1800</td>\n",
       "      <td>review</td>\n",
       "    </tr>\n",
       "    <tr>\n",
       "      <th>1</th>\n",
       "      <td>XA-1220192</td>\n",
       "      <td>7b8216fe-ff14</td>\n",
       "      <td>2022-09-06 12:28:24</td>\n",
       "      <td>Tassia</td>\n",
       "      <td>In-person Visit</td>\n",
       "      <td>Cash</td>\n",
       "      <td>NaN</td>\n",
       "      <td>1460</td>\n",
       "      <td>acute rhinitis</td>\n",
       "    </tr>\n",
       "    <tr>\n",
       "      <th>2</th>\n",
       "      <td>XA-1120632</td>\n",
       "      <td>ae928861-7de6</td>\n",
       "      <td>2022-05-17 20:37:25</td>\n",
       "      <td>Tassia</td>\n",
       "      <td>In-person Visit</td>\n",
       "      <td>Cash</td>\n",
       "      <td>NaN</td>\n",
       "      <td>300</td>\n",
       "      <td>review</td>\n",
       "    </tr>\n",
       "    <tr>\n",
       "      <th>3</th>\n",
       "      <td>XA-1146859</td>\n",
       "      <td>758bee68-b569</td>\n",
       "      <td>2022-06-12 16:41:30</td>\n",
       "      <td>Tassia</td>\n",
       "      <td>In-person Visit</td>\n",
       "      <td>Cash</td>\n",
       "      <td>NaN</td>\n",
       "      <td>1515</td>\n",
       "      <td>tonsillitis, acute bacterial</td>\n",
       "    </tr>\n",
       "    <tr>\n",
       "      <th>4</th>\n",
       "      <td>XA-1204110</td>\n",
       "      <td>1c570cd7-0b55</td>\n",
       "      <td>2022-08-16 13:34:48</td>\n",
       "      <td>Tassia</td>\n",
       "      <td>In-person Visit</td>\n",
       "      <td>Cash</td>\n",
       "      <td>8.0</td>\n",
       "      <td>4140</td>\n",
       "      <td>pneumonia</td>\n",
       "    </tr>\n",
       "  </tbody>\n",
       "</table>\n",
       "</div>"
      ],
      "text/plain": [
       "    VisitCode    PatientCode       VisitDateTime MedicalCenter  \\\n",
       "0  XA-1188078  c464fa34-e7f2 2022-07-27 05:54:02        Tassia   \n",
       "1  XA-1220192  7b8216fe-ff14 2022-09-06 12:28:24        Tassia   \n",
       "2  XA-1120632  ae928861-7de6 2022-05-17 20:37:25        Tassia   \n",
       "3  XA-1146859  758bee68-b569 2022-06-12 16:41:30        Tassia   \n",
       "4  XA-1204110  1c570cd7-0b55 2022-08-16 13:34:48        Tassia   \n",
       "\n",
       "     VisitCategory Payor  NPS Score  Amount                     Diagnosis  \n",
       "0  In-person Visit  Cash        NaN    1800                        review  \n",
       "1  In-person Visit  Cash        NaN    1460                acute rhinitis  \n",
       "2  In-person Visit  Cash        NaN     300                        review  \n",
       "3  In-person Visit  Cash        NaN    1515  tonsillitis, acute bacterial  \n",
       "4  In-person Visit  Cash        8.0    4140                     pneumonia  "
      ]
     },
     "execution_count": 3,
     "metadata": {},
     "output_type": "execute_result"
    }
   ],
   "source": [
    "# read the worksheets into a DataFrame\n",
    "sheet_1 = pd.read_excel(\"BI_Analyst_Assessment_Data_2023.xlsx\",sheet_name = \"Visit Tbl\")\n",
    "sheet_2 = pd.read_excel(\"BI_Analyst_Assessment_Data_2023.xlsx\",sheet_name = \"Invoice Tbl\")\n",
    "sheet_3 = pd.read_excel(\"BI_Analyst_Assessment_Data_2023.xlsx\",sheet_name = \"Diagnosis Tbl\")\n",
    "\n",
    "# merge the sheets on \"VisitCode\" column\n",
    "df = pd.merge(sheet_1,sheet_2,on = \"VisitCode\")\n",
    "df = pd.merge(df,sheet_3,on =\"VisitCode\")\n",
    "\n",
    "# first five records after merging\n",
    "df.head()"
   ]
  },
  {
   "cell_type": "code",
   "execution_count": 4,
   "id": "cb530d21",
   "metadata": {},
   "outputs": [
    {
     "name": "stdout",
     "output_type": "stream",
     "text": [
      "<class 'pandas.core.frame.DataFrame'>\n",
      "Int64Index: 22119 entries, 0 to 22118\n",
      "Data columns (total 9 columns):\n",
      " #   Column         Non-Null Count  Dtype         \n",
      "---  ------         --------------  -----         \n",
      " 0   VisitCode      22119 non-null  object        \n",
      " 1   PatientCode    22119 non-null  object        \n",
      " 2   VisitDateTime  22119 non-null  datetime64[ns]\n",
      " 3   MedicalCenter  22119 non-null  object        \n",
      " 4   VisitCategory  22119 non-null  object        \n",
      " 5   Payor          22119 non-null  object        \n",
      " 6   NPS Score      852 non-null    float64       \n",
      " 7   Amount         22119 non-null  int64         \n",
      " 8   Diagnosis      22119 non-null  object        \n",
      "dtypes: datetime64[ns](1), float64(1), int64(1), object(6)\n",
      "memory usage: 1.7+ MB\n"
     ]
    }
   ],
   "source": [
    "# dataframe info after merging\n",
    "df.info()"
   ]
  },
  {
   "cell_type": "markdown",
   "id": "e33915e3",
   "metadata": {},
   "source": [
    "From the DataFrame information, it appears that the \"NPS Score\" column contains 852 null values out of a total of 22,119 entries. While this represents a significant number of missing values, we have decided not to drop the column as it is essential for answering the questions posed by Hospital Y. Instead, we will handle these null values appropriately during our analysis to ensure that they do not affect the validity of our results."
   ]
  },
  {
   "cell_type": "code",
   "execution_count": 5,
   "id": "a953f58a",
   "metadata": {},
   "outputs": [
    {
     "data": {
      "text/plain": [
       "False    21863\n",
       "True       256\n",
       "dtype: int64"
      ]
     },
     "execution_count": 5,
     "metadata": {},
     "output_type": "execute_result"
    }
   ],
   "source": [
    "# check for duplicates\n",
    "df.duplicated().value_counts()"
   ]
  },
  {
   "cell_type": "code",
   "execution_count": 6,
   "id": "affd4ed2",
   "metadata": {},
   "outputs": [
    {
     "data": {
      "text/html": [
       "<div>\n",
       "<style scoped>\n",
       "    .dataframe tbody tr th:only-of-type {\n",
       "        vertical-align: middle;\n",
       "    }\n",
       "\n",
       "    .dataframe tbody tr th {\n",
       "        vertical-align: top;\n",
       "    }\n",
       "\n",
       "    .dataframe thead th {\n",
       "        text-align: right;\n",
       "    }\n",
       "</style>\n",
       "<table border=\"1\" class=\"dataframe\">\n",
       "  <thead>\n",
       "    <tr style=\"text-align: right;\">\n",
       "      <th></th>\n",
       "      <th>VisitCode</th>\n",
       "      <th>PatientCode</th>\n",
       "      <th>VisitDateTime</th>\n",
       "      <th>MedicalCenter</th>\n",
       "      <th>VisitCategory</th>\n",
       "      <th>Payor</th>\n",
       "      <th>NPS Score</th>\n",
       "      <th>Amount</th>\n",
       "      <th>Diagnosis</th>\n",
       "    </tr>\n",
       "  </thead>\n",
       "  <tbody>\n",
       "    <tr>\n",
       "      <th>0</th>\n",
       "      <td>XA-1188078</td>\n",
       "      <td>c464fa34-e7f2</td>\n",
       "      <td>2022-07-27 05:54:02</td>\n",
       "      <td>Tassia</td>\n",
       "      <td>In-person Visit</td>\n",
       "      <td>Cash</td>\n",
       "      <td>NaN</td>\n",
       "      <td>1800</td>\n",
       "      <td>review</td>\n",
       "    </tr>\n",
       "    <tr>\n",
       "      <th>1</th>\n",
       "      <td>XA-1220192</td>\n",
       "      <td>7b8216fe-ff14</td>\n",
       "      <td>2022-09-06 12:28:24</td>\n",
       "      <td>Tassia</td>\n",
       "      <td>In-person Visit</td>\n",
       "      <td>Cash</td>\n",
       "      <td>NaN</td>\n",
       "      <td>1460</td>\n",
       "      <td>acute rhinitis</td>\n",
       "    </tr>\n",
       "    <tr>\n",
       "      <th>2</th>\n",
       "      <td>XA-1120632</td>\n",
       "      <td>ae928861-7de6</td>\n",
       "      <td>2022-05-17 20:37:25</td>\n",
       "      <td>Tassia</td>\n",
       "      <td>In-person Visit</td>\n",
       "      <td>Cash</td>\n",
       "      <td>NaN</td>\n",
       "      <td>300</td>\n",
       "      <td>review</td>\n",
       "    </tr>\n",
       "    <tr>\n",
       "      <th>3</th>\n",
       "      <td>XA-1146859</td>\n",
       "      <td>758bee68-b569</td>\n",
       "      <td>2022-06-12 16:41:30</td>\n",
       "      <td>Tassia</td>\n",
       "      <td>In-person Visit</td>\n",
       "      <td>Cash</td>\n",
       "      <td>NaN</td>\n",
       "      <td>1515</td>\n",
       "      <td>tonsillitis, acute bacterial</td>\n",
       "    </tr>\n",
       "    <tr>\n",
       "      <th>4</th>\n",
       "      <td>XA-1204110</td>\n",
       "      <td>1c570cd7-0b55</td>\n",
       "      <td>2022-08-16 13:34:48</td>\n",
       "      <td>Tassia</td>\n",
       "      <td>In-person Visit</td>\n",
       "      <td>Cash</td>\n",
       "      <td>8.0</td>\n",
       "      <td>4140</td>\n",
       "      <td>pneumonia</td>\n",
       "    </tr>\n",
       "  </tbody>\n",
       "</table>\n",
       "</div>"
      ],
      "text/plain": [
       "    VisitCode    PatientCode       VisitDateTime MedicalCenter  \\\n",
       "0  XA-1188078  c464fa34-e7f2 2022-07-27 05:54:02        Tassia   \n",
       "1  XA-1220192  7b8216fe-ff14 2022-09-06 12:28:24        Tassia   \n",
       "2  XA-1120632  ae928861-7de6 2022-05-17 20:37:25        Tassia   \n",
       "3  XA-1146859  758bee68-b569 2022-06-12 16:41:30        Tassia   \n",
       "4  XA-1204110  1c570cd7-0b55 2022-08-16 13:34:48        Tassia   \n",
       "\n",
       "     VisitCategory Payor  NPS Score  Amount                     Diagnosis  \n",
       "0  In-person Visit  Cash        NaN    1800                        review  \n",
       "1  In-person Visit  Cash        NaN    1460                acute rhinitis  \n",
       "2  In-person Visit  Cash        NaN     300                        review  \n",
       "3  In-person Visit  Cash        NaN    1515  tonsillitis, acute bacterial  \n",
       "4  In-person Visit  Cash        8.0    4140                     pneumonia  "
      ]
     },
     "execution_count": 6,
     "metadata": {},
     "output_type": "execute_result"
    }
   ],
   "source": [
    "# drop duplicates\n",
    "df = df.drop_duplicates()\n",
    "df.head()"
   ]
  },
  {
   "cell_type": "code",
   "execution_count": 7,
   "id": "eb280173",
   "metadata": {},
   "outputs": [
    {
     "name": "stdout",
     "output_type": "stream",
     "text": [
      "<class 'pandas.core.frame.DataFrame'>\n",
      "Int64Index: 21863 entries, 0 to 22118\n",
      "Data columns (total 9 columns):\n",
      " #   Column         Non-Null Count  Dtype         \n",
      "---  ------         --------------  -----         \n",
      " 0   VisitCode      21863 non-null  object        \n",
      " 1   PatientCode    21863 non-null  object        \n",
      " 2   VisitDateTime  21863 non-null  datetime64[ns]\n",
      " 3   MedicalCenter  21863 non-null  object        \n",
      " 4   VisitCategory  21863 non-null  object        \n",
      " 5   Payor          21863 non-null  object        \n",
      " 6   NPS Score      845 non-null    float64       \n",
      " 7   Amount         21863 non-null  int64         \n",
      " 8   Diagnosis      21863 non-null  object        \n",
      "dtypes: datetime64[ns](1), float64(1), int64(1), object(6)\n",
      "memory usage: 1.7+ MB\n"
     ]
    }
   ],
   "source": [
    "# dataframe information after cleaning our data\n",
    "df.info()"
   ]
  },
  {
   "cell_type": "markdown",
   "id": "cabc82da",
   "metadata": {},
   "source": [
    "Everything looks good now!Lets dive into our analysis"
   ]
  },
  {
   "cell_type": "code",
   "execution_count": 8,
   "id": "30dceb4e",
   "metadata": {},
   "outputs": [
    {
     "data": {
      "text/plain": [
       "array(['Tassia', 'Pipeline', 'Embakasi', 'Githurai 45', 'Mathare North',\n",
       "       'Kimathi Street', 'Lucky Summer', 'Call Centre'], dtype=object)"
      ]
     },
     "execution_count": 8,
     "metadata": {},
     "output_type": "execute_result"
    }
   ],
   "source": [
    "# medical centers in Penda health\n",
    "df[\"MedicalCenter\"].unique()"
   ]
  },
  {
   "cell_type": "markdown",
   "id": "d70366e1",
   "metadata": {},
   "source": [
    "### How many visits did Kimathi Street and Pipeline medical centers' have from May 2022 and September 2022?"
   ]
  },
  {
   "cell_type": "code",
   "execution_count": 9,
   "id": "5c3cc9ec",
   "metadata": {},
   "outputs": [
    {
     "data": {
      "text/plain": [
       "4626"
      ]
     },
     "execution_count": 9,
     "metadata": {},
     "output_type": "execute_result"
    }
   ],
   "source": [
    "visit_df = df[(df[\"MedicalCenter\"] == \"Kimathi Street\") | (df[\"MedicalCenter\"] == \"Pipeline\")]\n",
    "\n",
    "len(visit_df[visit_df[\"VisitDateTime\"].between(\"2022-05-01\",\"2022-09-30\")])"
   ]
  },
  {
   "cell_type": "markdown",
   "id": "f233b0a5",
   "metadata": {},
   "source": [
    "### What was the most common diagnosis in 2022 for Tassia and Embakasi branches combined?"
   ]
  },
  {
   "cell_type": "code",
   "execution_count": 10,
   "id": "da03a6f2",
   "metadata": {},
   "outputs": [
    {
     "data": {
      "text/plain": [
       "MedicalCenter  Diagnosis                   \n",
       "Pipeline       acute nasopharyngitis           1640\n",
       "Tassia         acute nasopharyngitis           1088\n",
       "               tonsillitis, acute bacterial     936\n",
       "Pipeline       tonsillitis, acute bacterial     735\n",
       "               acute gastritis                  636\n",
       "Name: Diagnosis, dtype: int64"
      ]
     },
     "execution_count": 10,
     "metadata": {},
     "output_type": "execute_result"
    }
   ],
   "source": [
    "# five most common diagnosis in all medical centers\n",
    "diagnosis_medicalcenter = df.groupby([\"MedicalCenter\",\"Diagnosis\"])[\"Diagnosis\"].count().sort_values(ascending=False)\n",
    "diagnosis_medicalcenter.head()"
   ]
  },
  {
   "cell_type": "code",
   "execution_count": 11,
   "id": "d9bfd0bc",
   "metadata": {},
   "outputs": [
    {
     "name": "stdout",
     "output_type": "stream",
     "text": [
      "The most common diagnosis in Tassia Medical Center was acute nasopharyngitis\n"
     ]
    }
   ],
   "source": [
    "# tassia\n",
    "df_grouped = df.groupby([\"MedicalCenter\", \"Diagnosis\"]).size().reset_index(name='Count')\n",
    "most_common_diagnosis_Tassia = df_grouped[df_grouped[\"MedicalCenter\"] == \"Tassia\"].sort_values(by = \"Count\",ascending=False)\n",
    "\n",
    "print(f\"The most common diagnosis in Tassia Medical Center was {most_common_diagnosis_Tassia.Diagnosis.iloc[0]}\")"
   ]
  },
  {
   "cell_type": "code",
   "execution_count": 12,
   "id": "8fc9ba05",
   "metadata": {},
   "outputs": [
    {
     "name": "stdout",
     "output_type": "stream",
     "text": [
      "The most common diagnosis in Embakasi Medical Center was acute nasopharyngitis\n"
     ]
    }
   ],
   "source": [
    "# embakasi\n",
    "most_common_diagnosis_Embakasi =  df_grouped[df_grouped[\"MedicalCenter\"] == \"Embakasi\"].sort_values(by = \"Count\",ascending=False)\n",
    "\n",
    "print(f\"The most common diagnosis in Embakasi Medical Center was {most_common_diagnosis_Embakasi.Diagnosis.iloc[0]}\")"
   ]
  },
  {
   "cell_type": "markdown",
   "id": "5c6061f5",
   "metadata": {},
   "source": [
    "### Which payor was the most profitable (in absolute numbers) for Hospital Y in 2022? {Assume a gross average margin of 30% per visit}."
   ]
  },
  {
   "cell_type": "code",
   "execution_count": 13,
   "id": "cd2d977d",
   "metadata": {},
   "outputs": [
    {
     "data": {
      "text/html": [
       "<div>\n",
       "<style scoped>\n",
       "    .dataframe tbody tr th:only-of-type {\n",
       "        vertical-align: middle;\n",
       "    }\n",
       "\n",
       "    .dataframe tbody tr th {\n",
       "        vertical-align: top;\n",
       "    }\n",
       "\n",
       "    .dataframe thead th {\n",
       "        text-align: right;\n",
       "    }\n",
       "</style>\n",
       "<table border=\"1\" class=\"dataframe\">\n",
       "  <thead>\n",
       "    <tr style=\"text-align: right;\">\n",
       "      <th></th>\n",
       "      <th>VisitCode</th>\n",
       "      <th>PatientCode</th>\n",
       "      <th>VisitDateTime</th>\n",
       "      <th>MedicalCenter</th>\n",
       "      <th>VisitCategory</th>\n",
       "      <th>Payor</th>\n",
       "      <th>NPS Score</th>\n",
       "      <th>Amount</th>\n",
       "      <th>Diagnosis</th>\n",
       "      <th>Revenue</th>\n",
       "    </tr>\n",
       "  </thead>\n",
       "  <tbody>\n",
       "    <tr>\n",
       "      <th>0</th>\n",
       "      <td>XA-1188078</td>\n",
       "      <td>c464fa34-e7f2</td>\n",
       "      <td>2022-07-27 05:54:02</td>\n",
       "      <td>Tassia</td>\n",
       "      <td>In-person Visit</td>\n",
       "      <td>Cash</td>\n",
       "      <td>NaN</td>\n",
       "      <td>1800</td>\n",
       "      <td>review</td>\n",
       "      <td>540.0</td>\n",
       "    </tr>\n",
       "    <tr>\n",
       "      <th>1</th>\n",
       "      <td>XA-1220192</td>\n",
       "      <td>7b8216fe-ff14</td>\n",
       "      <td>2022-09-06 12:28:24</td>\n",
       "      <td>Tassia</td>\n",
       "      <td>In-person Visit</td>\n",
       "      <td>Cash</td>\n",
       "      <td>NaN</td>\n",
       "      <td>1460</td>\n",
       "      <td>acute rhinitis</td>\n",
       "      <td>438.0</td>\n",
       "    </tr>\n",
       "    <tr>\n",
       "      <th>2</th>\n",
       "      <td>XA-1120632</td>\n",
       "      <td>ae928861-7de6</td>\n",
       "      <td>2022-05-17 20:37:25</td>\n",
       "      <td>Tassia</td>\n",
       "      <td>In-person Visit</td>\n",
       "      <td>Cash</td>\n",
       "      <td>NaN</td>\n",
       "      <td>300</td>\n",
       "      <td>review</td>\n",
       "      <td>90.0</td>\n",
       "    </tr>\n",
       "    <tr>\n",
       "      <th>3</th>\n",
       "      <td>XA-1146859</td>\n",
       "      <td>758bee68-b569</td>\n",
       "      <td>2022-06-12 16:41:30</td>\n",
       "      <td>Tassia</td>\n",
       "      <td>In-person Visit</td>\n",
       "      <td>Cash</td>\n",
       "      <td>NaN</td>\n",
       "      <td>1515</td>\n",
       "      <td>tonsillitis, acute bacterial</td>\n",
       "      <td>454.5</td>\n",
       "    </tr>\n",
       "    <tr>\n",
       "      <th>4</th>\n",
       "      <td>XA-1204110</td>\n",
       "      <td>1c570cd7-0b55</td>\n",
       "      <td>2022-08-16 13:34:48</td>\n",
       "      <td>Tassia</td>\n",
       "      <td>In-person Visit</td>\n",
       "      <td>Cash</td>\n",
       "      <td>8.0</td>\n",
       "      <td>4140</td>\n",
       "      <td>pneumonia</td>\n",
       "      <td>1242.0</td>\n",
       "    </tr>\n",
       "  </tbody>\n",
       "</table>\n",
       "</div>"
      ],
      "text/plain": [
       "    VisitCode    PatientCode       VisitDateTime MedicalCenter  \\\n",
       "0  XA-1188078  c464fa34-e7f2 2022-07-27 05:54:02        Tassia   \n",
       "1  XA-1220192  7b8216fe-ff14 2022-09-06 12:28:24        Tassia   \n",
       "2  XA-1120632  ae928861-7de6 2022-05-17 20:37:25        Tassia   \n",
       "3  XA-1146859  758bee68-b569 2022-06-12 16:41:30        Tassia   \n",
       "4  XA-1204110  1c570cd7-0b55 2022-08-16 13:34:48        Tassia   \n",
       "\n",
       "     VisitCategory Payor  NPS Score  Amount                     Diagnosis  \\\n",
       "0  In-person Visit  Cash        NaN    1800                        review   \n",
       "1  In-person Visit  Cash        NaN    1460                acute rhinitis   \n",
       "2  In-person Visit  Cash        NaN     300                        review   \n",
       "3  In-person Visit  Cash        NaN    1515  tonsillitis, acute bacterial   \n",
       "4  In-person Visit  Cash        8.0    4140                     pneumonia   \n",
       "\n",
       "   Revenue  \n",
       "0    540.0  \n",
       "1    438.0  \n",
       "2     90.0  \n",
       "3    454.5  \n",
       "4   1242.0  "
      ]
     },
     "execution_count": 13,
     "metadata": {},
     "output_type": "execute_result"
    }
   ],
   "source": [
    "# calculate profit per medical center\n",
    "df[\"Revenue\"] = df[\"Amount\"].apply(lambda x:x*0.30)\n",
    "df.head()"
   ]
  },
  {
   "cell_type": "code",
   "execution_count": 14,
   "id": "eb822139",
   "metadata": {},
   "outputs": [
    {
     "name": "stdout",
     "output_type": "stream",
     "text": [
      "The most profitable payor for Hospital Y in 2022 was Insurance Company B\n"
     ]
    }
   ],
   "source": [
    "# groupby payor\n",
    "payor_df = df.groupby(\"Payor\")[\"Revenue\"].sum().sort_values(ascending=False)\n",
    "\n",
    "print(f\"The most profitable payor for Hospital Y in 2022 was {payor_df.index[0]}\")"
   ]
  },
  {
   "cell_type": "markdown",
   "id": "0d43f398",
   "metadata": {},
   "source": [
    "### What was the average spend per visit for visits that had a diagnosis of acute gastritis?"
   ]
  },
  {
   "cell_type": "code",
   "execution_count": 15,
   "id": "d6a33582",
   "metadata": {},
   "outputs": [
    {
     "name": "stdout",
     "output_type": "stream",
     "text": [
      "The average spend per visit that had a diagnosis of acute gastritis was 2777.57\n"
     ]
    }
   ],
   "source": [
    "# select rows with diagnosis \"acute gastritis\"\n",
    "acute_gastritis = df[df[\"Diagnosis\"] == \"acute gastritis\"]\n",
    "\n",
    "# find the mean of the amount\n",
    "acute_gastritis.Amount.mean()\n",
    "\n",
    "print(f\"The average spend per visit that had a diagnosis of acute gastritis was {acute_gastritis.Amount.mean():.2f}\")"
   ]
  },
  {
   "cell_type": "markdown",
   "id": "175dd6cc",
   "metadata": {},
   "source": [
    "### At Penda Health, we have a blended healthcare model where patients can get treatment physically (by visiting a medical centers)or virtually (through our call center). In 2022, how many unique patients experienced a blended healthcare approach in their healthcare journey?"
   ]
  },
  {
   "cell_type": "code",
   "execution_count": 16,
   "id": "3726f077",
   "metadata": {},
   "outputs": [
    {
     "data": {
      "text/plain": [
       "VisitCategory\n",
       "In-person Visit       21184\n",
       "Telemedicine Visit      679\n",
       "Name: PatientCode, dtype: int64"
      ]
     },
     "execution_count": 16,
     "metadata": {},
     "output_type": "execute_result"
    }
   ],
   "source": [
    "df.groupby(\"VisitCategory\")[\"PatientCode\"].count()"
   ]
  },
  {
   "cell_type": "markdown",
   "id": "ae14d3d0",
   "metadata": {},
   "source": [
    "### What was the Net Promoter Score (NPS) for Q3 2022?"
   ]
  },
  {
   "cell_type": "markdown",
   "id": "08c83580",
   "metadata": {},
   "source": [
    "Since we want to retain the NPS Score column in the DataFrame and handle the missing values (NaN), we will fill the NaN values with the mode of the NPS Score column. This approach allows us to replace the missing values with the most frequently occurring value in the column, ensuring that the data remains representative and complete."
   ]
  },
  {
   "cell_type": "code",
   "execution_count": 17,
   "id": "b2e79161",
   "metadata": {},
   "outputs": [],
   "source": [
    "# fill the null values with the mode\n",
    "mode = df[\"NPS Score\"].mode().iloc[0]\n",
    "df[\"NPS Score\"].fillna(mode,inplace = True)"
   ]
  },
  {
   "cell_type": "code",
   "execution_count": 18,
   "id": "41d6ebb9",
   "metadata": {},
   "outputs": [],
   "source": [
    "# get_review function to classify the nps scores\n",
    "def get_review(score):\n",
    "    if 9.0 <= score <= 10.0:\n",
    "        return \"Promoters\"\n",
    "    elif 7.0 <= score <= 10.0:\n",
    "        return \"Passive\"\n",
    "    else:\n",
    "        return \"Detractors\""
   ]
  },
  {
   "cell_type": "code",
   "execution_count": 19,
   "id": "0b6d5cb2",
   "metadata": {},
   "outputs": [],
   "source": [
    "# apply the function to nps score column and create a new column for the scores\n",
    "df[\"Reviews\"] = df[\"NPS Score\"].apply(get_review)"
   ]
  },
  {
   "cell_type": "code",
   "execution_count": 20,
   "id": "5fec6aec",
   "metadata": {},
   "outputs": [
    {
     "name": "stdout",
     "output_type": "stream",
     "text": [
      "The NPS Score for Penda Health was 65.10085532635046. This shows that the patients were satisfied with the services and would recommend other customers\n"
     ]
    }
   ],
   "source": [
    "# calculate the NPS score\n",
    "percentage_promoters = len(df[(df[\"Reviews\"] == \"Promoters\") | (df[\"VisitDateTime\"].between(\"2022-07-01\", \"2022-09-30\"))]) / len(df[\"Reviews\"]) * 100\n",
    "\n",
    "percentage_detractors = len(df[(df[\"Reviews\"] == \"Detractors\") | (df[\"VisitDateTime\"].between(\"2022-07-01\", \"2022-09-30\"))]) / len(df[\"Reviews\"]) * 100\n",
    "\n",
    "NPS = percentage_promoters - percentage_detractors\n",
    "print(f\"The NPS Score for Penda Health was {NPS}. This shows that the patients were satisfied with the services and would recommend other customers\")\n"
   ]
  },
  {
   "cell_type": "markdown",
   "id": "885c6e81",
   "metadata": {},
   "source": [
    "### What was the propotion of the second visits?"
   ]
  },
  {
   "cell_type": "code",
   "execution_count": 21,
   "id": "783cc8e1",
   "metadata": {},
   "outputs": [
    {
     "name": "stdout",
     "output_type": "stream",
     "text": [
      "The proportion of second visits in Penda Health in 2022 is: 0.10\n"
     ]
    }
   ],
   "source": [
    "# group the visitcode with unique patient code\n",
    "second_visits = df.groupby(\"VisitCode\")[\"PatientCode\"].count()\n",
    "\n",
    "# propotion of second visits \n",
    "propotion_of_second_visits = len(second_visits.loc[second_visits == 2])/len(second_visits)\n",
    "propotion_of_second_visits\n",
    "\n",
    "# print the proportion of second visits\n",
    "print(f\"The proportion of second visits in Penda Health in 2022 is: {propotion_of_second_visits:.2f}\")"
   ]
  },
  {
   "cell_type": "markdown",
   "id": "2642ca34",
   "metadata": {},
   "source": [
    "### What percent of visits in April 2022 happened within 30 days of the preceding visit by the same patient?"
   ]
  },
  {
   "cell_type": "code",
   "execution_count": 22,
   "id": "de42ce1f",
   "metadata": {},
   "outputs": [
    {
     "name": "stdout",
     "output_type": "stream",
     "text": [
      "The percentage of visits in April 2022 within 30 days of the preceding visit is 16.24%\n"
     ]
    }
   ],
   "source": [
    "# filter the visits in April 2022\n",
    "visits_april_2022 = df[(df['VisitDateTime'].dt.year == 2022) & (df['VisitDateTime'].dt.month == 4)]\n",
    "\n",
    "# sort the visits by patient ID and visit date\n",
    "sorted_visits = visits_april_2022.sort_values(['PatientCode', 'VisitDateTime'])\n",
    "\n",
    "# calculate the time difference between consecutive visits for each patient\n",
    "sorted_visits['TimeDifference'] = sorted_visits.groupby('PatientCode')['VisitDateTime'].diff()\n",
    "\n",
    "# count the number of visits that occurred within 30 days of the preceding visit\n",
    "within_30_days = len(sorted_visits[sorted_visits['TimeDifference'] <= pd.Timedelta(days=30)])\n",
    "\n",
    "# calculate the percentage\n",
    "total_visits = len(visits_april_2022)\n",
    "percentage_within_30_days = (within_30_days / total_visits) * 100\n",
    "\n",
    "# print the percentage\n",
    "print(f\"The percentage of visits in April 2022 within 30 days of the preceding visit is {percentage_within_30_days:.2f}%\")\n"
   ]
  },
  {
   "cell_type": "code",
   "execution_count": null,
   "id": "ae9b49f5",
   "metadata": {},
   "outputs": [],
   "source": []
  }
 ],
 "metadata": {
  "kernelspec": {
   "display_name": "Python (myprojects)",
   "language": "python",
   "name": "myprojects"
  },
  "language_info": {
   "codemirror_mode": {
    "name": "ipython",
    "version": 3
   },
   "file_extension": ".py",
   "mimetype": "text/x-python",
   "name": "python",
   "nbconvert_exporter": "python",
   "pygments_lexer": "ipython3",
   "version": "3.8.16"
  }
 },
 "nbformat": 4,
 "nbformat_minor": 5
}
